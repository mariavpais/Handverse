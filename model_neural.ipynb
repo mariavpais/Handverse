{
 "cells": [
  {
   "cell_type": "code",
   "execution_count": null,
   "metadata": {},
   "outputs": [],
   "source": [
    "import tensorflow as tf\n",
    "import pandas as pd\n",
    "from keras import callbacks, layers, metrics, models, optimizers, regularizers\n",
    "from keras.models import sequential\n",
    "from keras.layers import Dense, Conv2D, MaxPooling2D, BatchNormalization, Flatten, Dropout \n",
    "from keras.callbacks import ModelCheckpoint, EarlyStopping\n",
    "#import keras.utils as image\n",
    "#from keras.preprocessing.image import ImageDataGenerator\n",
    "#from keras.applications import VGG16\n",
    "#from keras.applications.vgg16 import preprocess_input, decode_predictions"
   ]
  },
  {
   "cell_type": "code",
   "execution_count": null,
   "metadata": {},
   "outputs": [],
   "source": [
    "epochs = 30\n",
    "\n",
    "#callbacks_list[\n",
    "# EarlyStopping(monitor=\"accuracy\", patience=\"30\"),\n",
    "# ModelCheckpoint(filepath=\"\", monitor=\"accuracy\", verbose=1, sav)]\n",
    "\n",
    "history = model.fit(\n",
    "    #train_generator,\n",
    "    steps_per_epoch = train_size // batch_size,\n",
    "    epochs = epochs\n",
    "    #validation_data = validation_generator,\n",
    "    #validation_steps = validation_num // batch_size,\n",
    "    #callbacks = callcbacks_list\n",
    ")"
   ]
  },
  {
   "cell_type": "code",
   "execution_count": null,
   "metadata": {},
   "outputs": [],
   "source": [
    "length = 150\n",
    "width = 150\n",
    "depth = 1\n",
    "\n",
    "model = Sequential()\n",
    "\n",
    "model.add(Conv2D(32, (3, 3), activation=\"relu\", input_shape=(length, width, depth)))\n",
    "model.add(MaxPooling2D(2, 2))\n",
    "\n",
    "#mode.add(BatchNormalization())\n",
    "model.add(Conv2D(64, (3, 3), activation=\"relu\"))\n",
    "model.add(MaxPooling2D(2, 2))\n",
    "\n",
    "#mode.add(BatchNormalization())\n",
    "model.add(Conv2D(128, (3, 3), activation=\"relu\"))\n",
    "model.add(MaxPooling2D(2, 2))\n",
    "\n",
    "#mode.add(BatchNormalization())\n",
    "model.add(Conv2D(128, (3, 3), activation=\"relu\"))\n",
    "model.add(MaxPooling2D(2, 2))\n",
    "\n",
    "Flatten()\n",
    "#Dropout(0.5)\n",
    "\n",
    "model.add(Dense(512, \"relu\"))\n",
    "model.add(Dense(29, \"softmax\"))\n",
    "\n",
    "#tentar optimizer sgd e depois mudar para adam ou rmsprop\n",
    "#\n",
    "model.compile(\n",
    "    optimzer= \"sgd\",\n",
    "    loss= \"categorical_crossentropy\",\n",
    "    metrics=[\"accuracy\", \"precision\", \"recall\", \"f1score\"]\n",
    ")\n",
    "\n",
    "model.summary()\n"
   ]
  }
 ],
 "metadata": {
  "kernelspec": {
   "display_name": "base",
   "language": "python",
   "name": "python3"
  },
  "language_info": {
   "name": "python",
   "version": "3.9.12"
  },
  "orig_nbformat": 4
 },
 "nbformat": 4,
 "nbformat_minor": 2
}
